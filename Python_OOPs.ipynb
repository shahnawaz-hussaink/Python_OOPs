{
  "nbformat": 4,
  "nbformat_minor": 0,
  "metadata": {
    "colab": {
      "provenance": []
    },
    "kernelspec": {
      "name": "python3",
      "display_name": "Python 3"
    },
    "language_info": {
      "name": "python"
    }
  },
  "cells": [
    {
      "cell_type": "markdown",
      "source": [
        "**Python OOPs Questions**"
      ],
      "metadata": {
        "id": "kJtPDdCGdcB-"
      }
    },
    {
      "cell_type": "markdown",
      "source": [
        "Q1. What is Object-Oriented Programming (OOP)?\n",
        "Ans: OOP is a programming paradigm based on the concept of objects containing data and methods."
      ],
      "metadata": {
        "id": "mWYUrqh6diAw"
      }
    },
    {
      "cell_type": "markdown",
      "source": [
        "Q2. What is a class in OOP?\n",
        "Ans: A class is a blueprint for creating objects with specific attributes and behaviors."
      ],
      "metadata": {
        "id": "UpkshzrhdjIG"
      }
    },
    {
      "cell_type": "markdown",
      "source": [
        "Q3. What is an object in OOP?\n",
        "Ans: An object is an instance of a class containing data and methods defined by the class."
      ],
      "metadata": {
        "id": "LMo7sedPdlhf"
      }
    },
    {
      "cell_type": "markdown",
      "source": [
        "Q4. What is the difference between abstraction and encapsulation?\n",
        "Ans: Abstraction hides complex implementation; encapsulation hides data by restricting access via methods."
      ],
      "metadata": {
        "id": "uniR_zHHdnVI"
      }
    },
    {
      "cell_type": "markdown",
      "source": [
        "Q5. What are dunder methods in Python?\n",
        "Ans: Dunder methods are special methods in Python with double underscores, like __init__, __str__."
      ],
      "metadata": {
        "id": "3eq7NQrzdpDx"
      }
    },
    {
      "cell_type": "markdown",
      "source": [
        "Q6. Explain the concept of inheritance in OOP.\n",
        "Ans: Inheritance allows a class to acquire properties and methods of another class."
      ],
      "metadata": {
        "id": "RgmJFJkPdq2W"
      }
    },
    {
      "cell_type": "markdown",
      "source": [
        "Q7. What is polymorphism in OOP?\n",
        "Ans: Polymorphism means using a single interface to represent different types or behaviors."
      ],
      "metadata": {
        "id": "w3stRFZtdscO"
      }
    },
    {
      "cell_type": "markdown",
      "source": [
        "Q8. How is encapsulation achieved in Python?\n",
        "Ans: By using private variables and getter/setter methods to control access."
      ],
      "metadata": {
        "id": "CwhKFNMudt_Z"
      }
    },
    {
      "cell_type": "markdown",
      "source": [
        "Q9. What is a constructor in Python?\n",
        "Ans: A constructor is a special method (__init__) that initializes an object’s attributes.\n",
        "\n"
      ],
      "metadata": {
        "id": "KTrmZe7Zdvq-"
      }
    },
    {
      "cell_type": "markdown",
      "source": [
        "Q10. What are class and static methods in Python?\n",
        "Ans: Class methods use @classmethod and take cls; static methods use @staticmethod and take no self/cls."
      ],
      "metadata": {
        "id": "Bml-UiTYdzHB"
      }
    },
    {
      "cell_type": "markdown",
      "source": [
        "Q11. What is method overloading in Python?\n",
        "Ans: Method overloading is defining multiple methods with the same name but different parameters (not natively supported in Python)."
      ],
      "metadata": {
        "id": "iWi26OfNd1FT"
      }
    },
    {
      "cell_type": "markdown",
      "source": [
        "Q12. What is method overriding in OOP?\n",
        "Ans: Method overriding is redefining a method in the child class that exists in the parent class."
      ],
      "metadata": {
        "id": "XDS7cWibd1Yk"
      }
    },
    {
      "cell_type": "markdown",
      "source": [
        "Q13. What is a property decorator in Python?\n",
        "Ans: The @property decorator makes a method act like an attribute."
      ],
      "metadata": {
        "id": "rKLdW4H6d7il"
      }
    },
    {
      "cell_type": "markdown",
      "source": [
        "Q14. Why is polymorphism important in OOP?\n",
        "Ans: Polymorphism allows flexibility and reuse by enabling objects to be treated as instances of their parent class."
      ],
      "metadata": {
        "id": "z6h3cjehd9QQ"
      }
    },
    {
      "cell_type": "markdown",
      "source": [
        "Q15. What is an abstract class in Python?\n",
        "Ans: An abstract class is a base class with abstract methods that must be implemented by subclasses."
      ],
      "metadata": {
        "id": "yt1B8Ckhd-zc"
      }
    },
    {
      "cell_type": "markdown",
      "source": [
        "Q16. What are the advantages of OOP?\n",
        "Ans: Advantages include modularity, code reuse, scalability, and maintainability.\n",
        "\n"
      ],
      "metadata": {
        "id": "qXyLbEPpeA_z"
      }
    },
    {
      "cell_type": "markdown",
      "source": [
        "Q17. What is the difference between a class variable and an instance variable?\n",
        "Ans: Class variables are shared among all instances; instance variables are unique to each object."
      ],
      "metadata": {
        "id": "VQSH_PGweCyq"
      }
    },
    {
      "cell_type": "markdown",
      "source": [
        "Q18. What is multiple inheritance in Python?\n",
        "Ans: Multiple inheritance means a class can inherit from more than one parent class."
      ],
      "metadata": {
        "id": "T6Du-TQ-eEdr"
      }
    },
    {
      "cell_type": "markdown",
      "source": [
        "Q19. Explain the purpose of __str__ and __repr__ methods in Python.\n",
        "Ans: __str__ returns a readable string; __repr__ returns an official string for debugging."
      ],
      "metadata": {
        "id": "De88nmrneF7K"
      }
    },
    {
      "cell_type": "markdown",
      "source": [
        "Q20. What is the significance of the super() function in Python?\n",
        "Ans: super() calls the parent class method, useful in inheritance."
      ],
      "metadata": {
        "id": "VKfHutt2eHsu"
      }
    },
    {
      "cell_type": "markdown",
      "source": [
        "Q21. What is the significance of the __del__ method in Python?\n",
        "Ans: __del__ is a destructor method called when an object is deleted."
      ],
      "metadata": {
        "id": "uWMDgebKeJYR"
      }
    },
    {
      "cell_type": "markdown",
      "source": [
        "Q22. What is the difference between @staticmethod and @classmethod in Python?\n",
        "Ans: @staticmethod doesn’t access class or instance; @classmethod accesses the class (cls)."
      ],
      "metadata": {
        "id": "nM74gOEleLE4"
      }
    },
    {
      "cell_type": "markdown",
      "source": [
        "Q23. How does polymorphism work in Python with inheritance?\n",
        "Ans: It allows the same method name to behave differently based on the object’s class in an inheritance hierarchy"
      ],
      "metadata": {
        "id": "d1BzXgsbeMsx"
      }
    },
    {
      "cell_type": "markdown",
      "source": [
        "Q24. What is method chaining in Python OOP?\n",
        "Ans: Method chaining is calling multiple methods sequentially on the same object in a single line."
      ],
      "metadata": {
        "id": "vkckUaoueOjC"
      }
    },
    {
      "cell_type": "markdown",
      "source": [
        "Q25. What is the purpose of the __call__ method in Python?\n",
        "Ans: __call__ allows an object to be called like a function."
      ],
      "metadata": {
        "id": "Wmv7T4n4eQMd"
      }
    },
    {
      "cell_type": "markdown",
      "source": [
        "**Practical Questions**"
      ],
      "metadata": {
        "id": "vTmWxHyXeWVg"
      }
    },
    {
      "cell_type": "markdown",
      "source": [
        "Q1 .  Create a parent class Animal with a method speak(). Create a child class Dog that overrides speak()."
      ],
      "metadata": {
        "id": "1t5CgSZ2ebr6"
      }
    },
    {
      "cell_type": "code",
      "source": [
        "class Animal:\n",
        "    def speak(self):\n",
        "        print(\"Animal speaks\")\n",
        "\n",
        "class Dog(Animal):\n",
        "    def speak(self):\n",
        "        print(\"Bark!\")\n"
      ],
      "metadata": {
        "id": "lwWWjrrSfTDq"
      },
      "execution_count": null,
      "outputs": []
    },
    {
      "cell_type": "markdown",
      "source": [
        "Q2. Abstract class Shape with area(). Derive Circle and Rectangle and implement area()."
      ],
      "metadata": {
        "id": "ZqcMqpo_fUZ3"
      }
    },
    {
      "cell_type": "code",
      "source": [
        "from abc import ABC, abstractmethod\n",
        "\n",
        "class Shape(ABC):\n",
        "    @abstractmethod\n",
        "    def area(self):\n",
        "        pass\n",
        "\n",
        "class Circle(Shape):\n",
        "    def __init__(self, radius):\n",
        "        self.radius = radius\n",
        "\n",
        "    def area(self):\n",
        "        return 3.14 * self.radius ** 2\n",
        "\n",
        "class Rectangle(Shape):\n",
        "    def __init__(self, l, w):\n",
        "        self.length = l\n",
        "        self.width = w\n",
        "\n",
        "    def area(self):\n",
        "        return self.length * self.width\n"
      ],
      "metadata": {
        "id": "36IaVFXPfYz6"
      },
      "execution_count": null,
      "outputs": []
    },
    {
      "cell_type": "markdown",
      "source": [
        "Q3 . Multi-level inheritance with Vehicle → Car → ElectricCar."
      ],
      "metadata": {
        "id": "KrpDY2TNfbMe"
      }
    },
    {
      "cell_type": "code",
      "source": [
        "class Vehicle:\n",
        "    def __init__(self, type):\n",
        "        self.type = type\n",
        "\n",
        "class Car(Vehicle):\n",
        "    def __init__(self, type, model):\n",
        "        super().__init__(type)\n",
        "        self.model = model\n",
        "\n",
        "class ElectricCar(Car):\n",
        "    def __init__(self, type, model, battery):\n",
        "        super().__init__(type, model)\n",
        "        self.battery = battery\n"
      ],
      "metadata": {
        "id": "fLA7hrjtfd8z"
      },
      "execution_count": null,
      "outputs": []
    },
    {
      "cell_type": "markdown",
      "source": [
        "Q4.Polymorphism with Bird → Sparrow, Penguin overriding fly()."
      ],
      "metadata": {
        "id": "Bhc7tNOqffUU"
      }
    },
    {
      "cell_type": "code",
      "source": [
        "class Bird:\n",
        "    def fly(self):\n",
        "        print(\"Bird can fly\")\n",
        "\n",
        "class Sparrow(Bird):\n",
        "    def fly(self):\n",
        "        print(\"Sparrow flies high\")\n",
        "\n",
        "class Penguin(Bird):\n",
        "    def fly(self):\n",
        "        print(\"Penguins cannot fly\")\n"
      ],
      "metadata": {
        "id": "Gia6wrOQfhaq"
      },
      "execution_count": null,
      "outputs": []
    },
    {
      "cell_type": "markdown",
      "source": [
        "Q5. Encapsulation using BankAccount."
      ],
      "metadata": {
        "id": "jcaAr3ilfixP"
      }
    },
    {
      "cell_type": "code",
      "source": [
        "class BankAccount:\n",
        "    def __init__(self):\n",
        "        self.__balance = 0\n",
        "\n",
        "    def deposit(self, amount):\n",
        "        self.__balance += amount\n",
        "\n",
        "    def withdraw(self, amount):\n",
        "        if amount <= self.__balance:\n",
        "            self.__balance -= amount\n",
        "\n",
        "    def check_balance(self):\n",
        "        return self.__balance\n"
      ],
      "metadata": {
        "id": "ASLxOEEqflNI"
      },
      "execution_count": null,
      "outputs": []
    },
    {
      "cell_type": "markdown",
      "source": [
        "Q6.\n",
        "Runtime polymorphism using Instrument → Guitar, Piano."
      ],
      "metadata": {
        "id": "uou4x2wTfmwg"
      }
    },
    {
      "cell_type": "code",
      "source": [
        "class Instrument:\n",
        "    def play(self):\n",
        "        print(\"Instrument is playing\")\n",
        "\n",
        "class Guitar(Instrument):\n",
        "    def play(self):\n",
        "        print(\"Guitar is playing\")\n",
        "\n",
        "class Piano(Instrument):\n",
        "    def play(self):\n",
        "        print(\"Piano is playing\")\n"
      ],
      "metadata": {
        "id": "ayjQWSPlfoIF"
      },
      "execution_count": null,
      "outputs": []
    },
    {
      "cell_type": "markdown",
      "source": [
        "Q7.\n",
        "Class and static methods in MathOperations."
      ],
      "metadata": {
        "id": "I6HGVYOOfpXl"
      }
    },
    {
      "cell_type": "code",
      "source": [
        "class MathOperations:\n",
        "    @classmethod\n",
        "    def add_numbers(cls, a, b):\n",
        "        return a + b\n",
        "\n",
        "    @staticmethod\n",
        "    def subtract_numbers(a, b):\n",
        "        return a - b\n"
      ],
      "metadata": {
        "id": "eVsh1ErVfq5B"
      },
      "execution_count": null,
      "outputs": []
    },
    {
      "cell_type": "markdown",
      "source": [
        "Q8.\n",
        "Class method to count Person instances."
      ],
      "metadata": {
        "id": "KMsug8NUfsRp"
      }
    },
    {
      "cell_type": "code",
      "source": [
        "class Person:\n",
        "    count = 0\n",
        "\n",
        "    def __init__(self):\n",
        "        Person.count += 1\n",
        "\n",
        "    @classmethod\n",
        "    def total(cls):\n",
        "        return cls.count\n"
      ],
      "metadata": {
        "id": "ZfdyDJhsftvo"
      },
      "execution_count": null,
      "outputs": []
    },
    {
      "cell_type": "markdown",
      "source": [
        "Q9.\n",
        "Override __str__ in Fraction class."
      ],
      "metadata": {
        "id": "R0gxvYhQfvRC"
      }
    },
    {
      "cell_type": "code",
      "source": [
        "class Fraction:\n",
        "    def __init__(self, numerator, denominator):\n",
        "        self.numerator = numerator\n",
        "        self.denominator = denominator\n",
        "\n",
        "    def __str__(self):\n",
        "        return f\"{self.numerator}/{self.denominator}\"\n"
      ],
      "metadata": {
        "id": "WNoUz8G1fw2X"
      },
      "execution_count": null,
      "outputs": []
    },
    {
      "cell_type": "markdown",
      "source": [
        "Q10.\n",
        "Operator overloading in Vector."
      ],
      "metadata": {
        "id": "6MpSyqFkfyKN"
      }
    },
    {
      "cell_type": "code",
      "source": [
        "class Vector:\n",
        "    def __init__(self, x, y):\n",
        "        self.x = x\n",
        "        self.y = y\n",
        "\n",
        "    def __add__(self, other):\n",
        "        return Vector(self.x + other.x, self.y + other.y)\n"
      ],
      "metadata": {
        "id": "EItkEbGVfzkV"
      },
      "execution_count": null,
      "outputs": []
    },
    {
      "cell_type": "markdown",
      "source": [
        "Q11.\n",
        "Greet method in Person class."
      ],
      "metadata": {
        "id": "EehJDb1Uf05w"
      }
    },
    {
      "cell_type": "code",
      "source": [
        "class Person:\n",
        "    def __init__(self, name, age):\n",
        "        self.name = name\n",
        "        self.age = age\n",
        "\n",
        "    def greet(self):\n",
        "        print(f\"Hello, my name is {self.name} and I am {self.age} years old.\")\n"
      ],
      "metadata": {
        "id": "Vxr9EJA_f2ZE"
      },
      "execution_count": null,
      "outputs": []
    },
    {
      "cell_type": "markdown",
      "source": [
        "Q12.\n",
        "Student with grades and average_grade()."
      ],
      "metadata": {
        "id": "-Pnr-_gQf4FJ"
      }
    },
    {
      "cell_type": "code",
      "source": [
        "class Student:\n",
        "    def __init__(self, name, grades):\n",
        "        self.name = name\n",
        "        self.grades = grades\n",
        "\n",
        "    def average_grade(self):\n",
        "        return sum(self.grades) / len(self.grades)\n"
      ],
      "metadata": {
        "id": "uktO57Cuf5xe"
      },
      "execution_count": null,
      "outputs": []
    },
    {
      "cell_type": "markdown",
      "source": [
        "Q13.\n",
        "Rectangle with set_dimensions() and area()."
      ],
      "metadata": {
        "id": "3VkSum5nf7cP"
      }
    },
    {
      "cell_type": "code",
      "source": [
        "class Rectangle:\n",
        "    def set_dimensions(self, length, width):\n",
        "        self.length = length\n",
        "        self.width = width\n",
        "\n",
        "    def area(self):\n",
        "        return self.length * self.width\n"
      ],
      "metadata": {
        "id": "j3HmtKouf8oj"
      },
      "execution_count": null,
      "outputs": []
    },
    {
      "cell_type": "markdown",
      "source": [
        "Q14.\n",
        "Employee → Manager with bonus"
      ],
      "metadata": {
        "id": "LQQXyb81f-FA"
      }
    },
    {
      "cell_type": "code",
      "source": [
        "class Employee:\n",
        "    def calculate_salary(self, hours, rate):\n",
        "        return hours * rate\n",
        "\n",
        "class Manager(Employee):\n",
        "    def calculate_salary(self, hours, rate, bonus):\n",
        "        return super().calculate_salary(hours, rate) + bonus\n"
      ],
      "metadata": {
        "id": "NpNGrwnif_eI"
      },
      "execution_count": null,
      "outputs": []
    },
    {
      "cell_type": "markdown",
      "source": [
        "Q15.\n",
        "Product with total_price()."
      ],
      "metadata": {
        "id": "odJVJZEugAzv"
      }
    },
    {
      "cell_type": "code",
      "source": [
        "class Product:\n",
        "    def __init__(self, name, price, quantity):\n",
        "        self.name = name\n",
        "        self.price = price\n",
        "        self.quantity = quantity\n",
        "\n",
        "    def total_price(self):\n",
        "        return self.price * self.quantity\n"
      ],
      "metadata": {
        "id": "fdhHPT6ngEIS"
      },
      "execution_count": null,
      "outputs": []
    },
    {
      "cell_type": "markdown",
      "source": [
        "Q16. Abstract method sound() in Animal. Cow and Sheep implement it."
      ],
      "metadata": {
        "id": "LTxS6mDRgFhU"
      }
    },
    {
      "cell_type": "code",
      "source": [
        "from abc import ABC, abstractmethod\n",
        "\n",
        "class Animal(ABC):\n",
        "    @abstractmethod\n",
        "    def sound(self):\n",
        "        pass\n",
        "\n",
        "class Cow(Animal):\n",
        "    def sound(self):\n",
        "        print(\"Moo\")\n",
        "\n",
        "class Sheep(Animal):\n",
        "    def sound(self):\n",
        "        print(\"Baa\")\n"
      ],
      "metadata": {
        "id": "ojxMc8-igIR6"
      },
      "execution_count": null,
      "outputs": []
    },
    {
      "cell_type": "markdown",
      "source": [
        "Q17.\n",
        "Book with get_book_info()."
      ],
      "metadata": {
        "id": "AIylx1dMgLUu"
      }
    },
    {
      "cell_type": "code",
      "source": [
        "class Book:\n",
        "    def __init__(self, title, author, year_published):\n",
        "        self.title = title\n",
        "        self.author = author\n",
        "        self.year = year_published\n",
        "\n",
        "    def get_book_info(self):\n",
        "        return f\"{self.title} by {self.author}, published in {self.year}\"\n"
      ],
      "metadata": {
        "id": "owaWosv3gMm9"
      },
      "execution_count": null,
      "outputs": []
    },
    {
      "cell_type": "markdown",
      "source": [
        "Q18.\n",
        "House → Mansion with extra attribute."
      ],
      "metadata": {
        "id": "McBPO34FgN4P"
      }
    },
    {
      "cell_type": "code",
      "source": [
        "class House:\n",
        "    def __init__(self, address, price):\n",
        "        self.address = address\n",
        "        self.price = price\n",
        "\n",
        "class Mansion(House):\n",
        "    def __init__(self, address, price, number_of_rooms):\n",
        "        super().__init__(address, price)\n",
        "        self.number_of_rooms = number_of_rooms\n"
      ],
      "metadata": {
        "id": "-9f0jVnLgS8c"
      },
      "execution_count": null,
      "outputs": []
    }
  ]
}